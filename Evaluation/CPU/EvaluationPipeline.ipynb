{
 "cells": [
  {
   "cell_type": "code",
   "execution_count": 116,
   "metadata": {},
   "outputs": [
    {
     "data": {
      "text/plain": [
       "<torch._C.Generator at 0x1064a5e28>"
      ]
     },
     "execution_count": 116,
     "metadata": {},
     "output_type": "execute_result"
    }
   ],
   "source": [
    "import numpy as np\n",
    "import torch\n",
    "import torch.autograd as autograd\n",
    "import torch.nn as nn\n",
    "import torch.nn.functional as F\n",
    "import torch.optim as optim\n",
    "import torchtext.data\n",
    "import random\n",
    "import matplotlib.pyplot as matpy\n",
    "import math\n",
    "\n",
    "torch.manual_seed(1)\n"
   ]
  },
  {
   "cell_type": "code",
   "execution_count": 118,
   "metadata": {},
   "outputs": [],
   "source": [
    "dict_Vectors = {}\n",
    "\n",
    "with open(\"preTrainedVectors_mini.txt\") as inputFile:\n",
    "    Vectors = inputFile.readlines()\n",
    "    \n",
    "    for vec in Vectors:\n",
    "        data = vec.split()\n",
    "        if data[0] not in dict_Vectors.keys():\n",
    "            dict_Vectors[data[0]] = data[1:]\n",
    "            \n",
    "#print(dict_Vectors.keys())"
   ]
  },
  {
   "cell_type": "code",
   "execution_count": 119,
   "metadata": {
    "collapsed": true
   },
   "outputs": [],
   "source": [
    "#print(dict_Vectors.keys())\n",
    "\n",
    "#Make input vectors\n",
    "\n",
    "def make_batch_input_vector(batch_target,batch_relata):\n",
    "    \n",
    "    batch_relation_vector = []\n",
    "    \n",
    "    for target,relata in zip(batch_target,batch_relata):\n",
    "    \n",
    "        word1 = target.lower()\n",
    "        word2 = relata.lower()\n",
    "    \n",
    "        #collect the respective vectors for word 1 & 2\n",
    "        \n",
    "        vector_1 = np.array(dict_Vectors[word1])\n",
    "        vector_1 = np.ndarray.astype(vector_1,float)\n",
    "        vector_2 = np.array(dict_Vectors[word2])\n",
    "        vector_2 = np.ndarray.astype(vector_2,float)\n",
    "    \n",
    "        #Combine these two vectors to form a single vector\n",
    "    \n",
    "        relation_vector = vector_1 - vector_2    \n",
    "        \n",
    "        batch_relation_vector.append(relation_vector)\n",
    "    \n",
    "    return(torch.FloatTensor(batch_relation_vector))\n",
    "\n",
    "def make_batch_target_vector(batch_relation):\n",
    "    \n",
    "    batch_relation_indices = []\n",
    "    \n",
    "    for relation in batch_relation:\n",
    "        batch_relation_indices.append(labels_to_ix[relation])\n",
    "    return(torch.LongTensor(batch_relation_indices))"
   ]
  },
  {
   "cell_type": "code",
   "execution_count": 137,
   "metadata": {
    "collapsed": true
   },
   "outputs": [],
   "source": [
    "class RelationClassifier(nn.Module):\n",
    "    # Module which implements the model\n",
    "    def __init__ (self,input_dim, hidden_dim, output_dim):\n",
    "        nn.Module.__init__(self)\n",
    "        \n",
    "        self.linear_input = nn.Linear(input_dim,hidden_dim)\n",
    "        self.linear_hidden = nn.Linear(hidden_dim,output_dim)\n",
    "        \n",
    "    def forward(self, batch_input_vector):\n",
    "        \n",
    "        batch_size = len(batch_input_vector)      \n",
    "        batch_output = autograd.Variable(torch.zeros(batch_size,8))\n",
    "        \n",
    "        for index,input_vector in enumerate(batch_input_vector):\n",
    "        \n",
    "            hidden_layer = self.linear_input(input_vector)\n",
    "            hidden_units = F.tanh(hidden_layer)\n",
    "            output = self.linear_hidden(hidden_units)\n",
    "            \n",
    "            batch_output[index] = output\n",
    "            \n",
    "        return(F.log_softmax(batch_output))\n",
    "    "
   ]
  },
  {
   "cell_type": "code",
   "execution_count": 216,
   "metadata": {},
   "outputs": [],
   "source": [
    "#MODEL\n",
    "\n",
    "INPUT_DIM = 400\n",
    "HIDDEN_UNIT = 400\n",
    "OUTPUT_LABEL = 8\n",
    "BATCH_SIZE = 8\n",
    "\n",
    "model = RelationClassifier(INPUT_DIM, HIDDEN_UNIT, OUTPUT_LABEL)\n",
    "loss = nn.NLLLoss()\n",
    "optimizer = torch.optim.SGD(model.parameters(),lr=0.09)\n",
    "\n",
    "loss?\n"
   ]
  },
  {
   "cell_type": "code",
   "execution_count": 260,
   "metadata": {},
   "outputs": [
    {
     "name": "stdout",
     "output_type": "stream",
     "text": [
      "Epoch : 0\n",
      "torch.Size([32, 8]) torch.Size([32])\n",
      "torch.Size([32, 8]) torch.Size([32])\n",
      "torch.Size([32, 8]) torch.Size([32])\n",
      "torch.Size([32, 8]) torch.Size([32])\n",
      "torch.Size([32, 8]) torch.Size([32])\n",
      "torch.Size([32, 8]) torch.Size([32])\n",
      "torch.Size([6, 8]) torch.Size([6])\n"
     ]
    },
    {
     "data": {
      "image/png": "[encoded data removed]",
      "text/plain": [
       "<matplotlib.figure.Figure at 0x10bda69b0>"
      ]
     },
     "metadata": {},
     "output_type": "display_data"
    }
   ],
   "source": [
    "for epoch in range(1):\n",
    "    \n",
    "    bs = 32\n",
    "    \n",
    "    #SPlit dataset to avoid lexical memorization\n",
    "    print(\"Epoch :\", epoch)\n",
    "    with open(\"UniqueTuples_mini\") as inputFile:\n",
    "        content = inputFile.readlines()\n",
    "        total_data = len(content) \n",
    "        #60% train, 10% dev, 30% test\n",
    "        random.shuffle(content)\n",
    "        train_data  = content[0:int(total_data*.6)]\n",
    "        dev_data    = content[int(total_data*.6):int(total_data*.7)]\n",
    "        test_data   = content[int(total_data*.7):]\n",
    "\n",
    "\n",
    "    N = math.ceil(len(train_data)/bs)\n",
    "\n",
    "    labels_to_ix = {}\n",
    "    Train_Error_cost = []\n",
    "\n",
    "    for i in range(N):\n",
    "\n",
    "        batch_entry = train_data[i*bs:i*bs+bs]\n",
    "\n",
    "        batch_concept = []\n",
    "        batch_relata = []\n",
    "        batch_relation = []\n",
    "\n",
    "        for index,split_data in enumerate(batch_entry):\n",
    "            batch_concept.append(split_data.split()[0])\n",
    "            batch_relata.append(split_data.split()[1])\n",
    "            batch_relation.append(split_data.split()[2])\n",
    "\n",
    "            if split_data.split()[2] not in labels_to_ix:\n",
    "                labels_to_ix[split_data.split()[2]] = len(labels_to_ix)\n",
    "\n",
    "\n",
    "        batch_input_vector = autograd.Variable(make_batch_input_vector(batch_concept,batch_relata))\n",
    "        batch_target_label = autograd.Variable(make_batch_target_vector(batch_relation))\n",
    "\n",
    "        model.zero_grad()\n",
    "\n",
    "        #print(batch_input_vector.data.shape, batch_target_label.data.shape)\n",
    "\n",
    "        batch_log_prob = model(batch_input_vector)\n",
    "        print(batch_log_prob.data.shape, batch_target_label.data.shape)\n",
    "        batch_cost = loss(batch_log_prob,batch_target_label)\n",
    "        \n",
    "        batch_cost.backward()\n",
    "        optimizer.step()\n",
    "\n",
    "\n",
    "        Train_Error_cost.append(batch_cost.data.tolist())\n",
    "\n",
    "    #print(Error_cost)\n",
    "    matpy.plot(Train_Error_cost)\n",
    "    matpy.ylabel(\"error\")\n",
    "    matpy.xlabel(\"train batches\")\n",
    "    matpy.show()\n"
   ]
  },
  {
   "cell_type": "code",
   "execution_count": 284,
   "metadata": {},
   "outputs": [],
   "source": [
    "N = math.ceil(len(dev_data)/bs)\n",
    "\n",
    "labels_to_ix = {}\n",
    "Dev_Error_cost = []\n",
    "\n",
    "count = 0\n",
    "\n",
    "for i in range(N):\n",
    "    \n",
    "    batch_entry = dev_data[i*bs:i*bs+bs]\n",
    "    \n",
    "    batch_concept = []\n",
    "    batch_relata = []\n",
    "    batch_relation = []\n",
    "    \n",
    "    for index,split_data in enumerate(batch_entry):\n",
    "        batch_concept.append(split_data.split()[0])\n",
    "        batch_relata.append(split_data.split()[1])\n",
    "        batch_relation.append(split_data.split()[2])\n",
    "      \n",
    "        if split_data.split()[2] not in labels_to_ix:\n",
    "            labels_to_ix[split_data.split()[2]] = len(labels_to_ix)\n",
    "    \n",
    "    \n",
    "    batch_input_vector = autograd.Variable(make_batch_input_vector(batch_concept,batch_relata))\n",
    "    batch_target_label = autograd.Variable(make_batch_target_vector(batch_relation)) \n",
    "    \n",
    "    batch_log_prob = model(batch_input_vector)\n",
    "        \n",
    "    batch_cost = loss(batch_log_prob,batch_target_label)\n",
    "    batch_cost.backward()\n",
    "    optimizer.step()\n",
    "    \n",
    "    Dev_Error_cost.append(batch_cost.data.tolist())\n",
    "    \n",
    "    for predict_label,target_label in zip(batch_log_prob.max(dim=1)[1].data,batch_target_label.data):\n",
    "        #print(predict_label,target_label)\n",
    "        if predict_label == target_label:\n",
    "            count += 1\n"
   ]
  },
  {
   "cell_type": "code",
   "execution_count": 285,
   "metadata": {},
   "outputs": [
    {
     "name": "stdout",
     "output_type": "stream",
     "text": [
      "[[1.391742467880249]]\n"
     ]
    },
    {
     "data": {
      "image/png": "[encoded data removed]",
      "text/plain": [
       "<matplotlib.figure.Figure at 0x10f767d30>"
      ]
     },
     "metadata": {},
     "output_type": "display_data"
    }
   ],
   "source": [
    "#Validation error\n",
    "\n",
    "print(Dev_Error_cost)\n",
    "matpy.plot(Dev_Error_cost)\n",
    "matpy.ylabel(\"error\")\n",
    "matpy.xlabel(\"dev batches\")\n",
    "matpy.show()\n",
    "\n",
    "#[print(i) for i in range(200) if i%25 == 0]"
   ]
  },
  {
   "cell_type": "code",
   "execution_count": 286,
   "metadata": {},
   "outputs": [
    {
     "name": "stdout",
     "output_type": "stream",
     "text": [
      "Accuracy 62.5\n"
     ]
    }
   ],
   "source": [
    "print(\"Accuracy\",(count/len(dev_data))*100)"
   ]
  },
  {
   "cell_type": "code",
   "execution_count": null,
   "metadata": {
    "collapsed": true
   },
   "outputs": [],
   "source": []
  },
  {
   "cell_type": "code",
   "execution_count": null,
   "metadata": {
    "collapsed": true
   },
   "outputs": [],
   "source": []
  }
 ],
 "metadata": {
  "kernelspec": {
   "display_name": "Python 3",
   "language": "python",
   "name": "python3"
  },
  "language_info": {
   "codemirror_mode": {
    "name": "ipython",
    "version": 3
   },
   "file_extension": ".py",
   "mimetype": "text/x-python",
   "name": "python",
   "nbconvert_exporter": "python",
   "pygments_lexer": "ipython3",
   "version": "3.6.2"
  }
 },
 "nbformat": 4,
 "nbformat_minor": 2
}
