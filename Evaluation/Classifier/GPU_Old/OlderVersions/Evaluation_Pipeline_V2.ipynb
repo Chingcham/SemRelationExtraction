{
 "cells": [
  {
   "cell_type": "code",
   "execution_count": 1,
   "metadata": {},
   "outputs": [],
   "source": [
    "import numpy as np\n",
    "import torch\n",
    "import torch.autograd as autograd\n",
    "import torch.nn as nn\n",
    "import torch.nn.functional as F\n",
    "import torch.optim as optim\n",
    "import torchtext.data\n",
    "import random\n",
    "import matplotlib.pyplot as matpy\n",
    "import math\n",
    "\n",
    "torch.cuda.manual_seed(1)\n"
   ]
  },
  {
   "cell_type": "code",
   "execution_count": 2,
   "metadata": {},
   "outputs": [],
   "source": [
    "dict_Vectors = {}\n",
    "\n",
    "with open(\"/home/achingacham/Model/GRID_data/Evaluation_Datasets/BLESS/preTrainedVectors.txt\") as inputFile:\n",
    "    Vectors = inputFile.readlines()\n",
    "    \n",
    "    for vec in Vectors:\n",
    "        data = vec.split()\n",
    "        if data[0] not in dict_Vectors.keys():\n",
    "            dict_Vectors[data[0]] = data[1:]\n"
   ]
  },
  {
   "cell_type": "code",
   "execution_count": 3,
   "metadata": {},
   "outputs": [],
   "source": [
    "class RelationClassifier(nn.Module):\n",
    "    # Module which implements the model\n",
    "    def __init__ (self,input_dim, hidden_dim, output_dim):\n",
    "        nn.Module.__init__(self)\n",
    "        \n",
    "        self.linear_input = nn.Linear(input_dim,hidden_dim)\n",
    "        self.linear_hidden = nn.Linear(hidden_dim,output_dim)\n",
    "        \n",
    "    def forward(self, batch_input_vector):\n",
    "        \n",
    "        #print(\"Ïnside....forward\")\n",
    "        batch_size = len(batch_input_vector)      \n",
    "        batch_op = np.zeros((batch_size,8))\n",
    "        batch_output = autograd.Variable(torch.cuda.FloatTensor(batch_op), requires_grad=True)\n",
    "        \n",
    "\n",
    "        #for index,input_vector in enumerate(batch_input_vector):\n",
    "        \n",
    "        hidden_layer = self.linear_input(batch_input_vector)\n",
    "        hidden_units = F.tanh(hidden_layer)\n",
    "        batch_output = self.linear_hidden(hidden_units)\n",
    "        \n",
    "        #batch_output[index] = output\n",
    "            \n",
    "        \n",
    "        return(F.log_softmax(batch_output))\n",
    "    "
   ]
  },
  {
   "cell_type": "code",
   "execution_count": 4,
   "metadata": {},
   "outputs": [],
   "source": [
    "#Make input vectors\n",
    "\n",
    "def make_input_vector(target,relata):\n",
    "    \n",
    "    word1 = target.lower()\n",
    "    word2 = relata.lower()\n",
    "    \n",
    "    #collect the respective vectors for word 1 & 2\n",
    "    vector_1 = np.array(dict_Vectors[word1])\n",
    "    vector_1 = np.ndarray.astype(vector_1,float)\n",
    "    vector_2 = np.array(dict_Vectors[word2])\n",
    "    vector_2 = np.ndarray.astype(vector_2,float)\n",
    "    \n",
    "    #Combine these two vectors to form a single vector\n",
    "    \n",
    "    relation_vector = vector_1 - vector_2    \n",
    "    tensor = torch.cuda.FloatTensor(relation_vector)\n",
    "    \n",
    "   \n",
    "    return(tensor)\n"
   ]
  },
  {
   "cell_type": "code",
   "execution_count": 5,
   "metadata": {},
   "outputs": [],
   "source": [
    "def make_batch_input_vector(batch_target,batch_relata):\n",
    "    \n",
    "    batch_relation_vector = []\n",
    "    \n",
    "    for target,relata in zip(batch_target,batch_relata):\n",
    "    \n",
    "        word1 = target.lower()\n",
    "        word2 = relata.lower()\n",
    "    \n",
    "        #collect the respective vectors for word 1 & 2\n",
    "        \n",
    "        vector_1 = np.array(dict_Vectors[word1])\n",
    "        vector_1 = np.ndarray.astype(vector_1,float)\n",
    "        vector_2 = np.array(dict_Vectors[word2])\n",
    "        vector_2 = np.ndarray.astype(vector_2,float)\n",
    "    \n",
    "        #Combine these two vectors to form a single vector\n",
    "    \n",
    "        relation_vector = vector_1 - vector_2    \n",
    "        \n",
    "        batch_relation_vector.append(relation_vector)\n",
    "    \n",
    "    return(torch.cuda.FloatTensor(batch_relation_vector))\n",
    "\n",
    "def make_batch_target_vector(batch_relation):\n",
    "    \n",
    "    batch_relation_indices = []\n",
    "    \n",
    "    for relation in batch_relation:\n",
    "        batch_relation_indices.append(labels_to_ix[relation])\n",
    "        #print(torch.cuda.LongTensor(batch_relation_indices))\n",
    "    return(torch.cuda.LongTensor(batch_relation_indices))\n"
   ]
  },
  {
   "cell_type": "code",
   "execution_count": 6,
   "metadata": {},
   "outputs": [],
   "source": [
    "#MODEL\n",
    "\n",
    "INPUT_DIM = 400\n",
    "HIDDEN_UNIT = 400\n",
    "OUTPUT_LABEL = 8\n",
    "\n",
    "\n",
    "model = RelationClassifier(INPUT_DIM, HIDDEN_UNIT, OUTPUT_LABEL)\n",
    "loss = nn.NLLLoss()\n",
    "optimizer = torch.optim.SGD(model.parameters(),lr=0.03)\n",
    "\n"
   ]
  },
  {
   "cell_type": "code",
   "execution_count": 7,
   "metadata": {},
   "outputs": [],
   "source": [
    "if torch.cuda.is_available():\n",
    "    model.cuda()\n",
    "    pass\n"
   ]
  },
  {
   "cell_type": "code",
   "execution_count": 8,
   "metadata": {},
   "outputs": [
    {
     "name": "stdout",
     "output_type": "stream",
     "text": [
      "Epoch : 0\n"
     ]
    },
    {
     "name": "stderr",
     "output_type": "stream",
     "text": [
      "/home/achingacham/.local/lib/python3.5/site-packages/ipykernel_launcher.py:26: UserWarning: Implicit dimension choice for log_softmax has been deprecated. Change the call to include dim=X as an argument.\n"
     ]
    },
    {
     "name": "stdout",
     "output_type": "stream",
     "text": [
      "Average cost 0.05455293673778284\n",
      "Epoch : 1\n",
      "Average cost 0.03711660087376066\n",
      "Epoch : 2\n",
      "Average cost 0.029145313305249974\n",
      "Epoch : 3\n",
      "Average cost 0.02564545481566464\n",
      "Epoch : 4\n",
      "Average cost 0.023925551563239555\n",
      "Epoch : 5\n",
      "Average cost 0.022595430261633877\n",
      "Epoch : 6\n",
      "Average cost 0.021907974523546602\n",
      "Epoch : 7\n",
      "Average cost 0.02129605801798771\n",
      "Epoch : 8\n",
      "Average cost 0.020891780887513173\n",
      "Epoch : 9\n",
      "Average cost 0.02069040586999927\n"
     ]
    }
   ],
   "source": [
    "#TRAINING\n",
    "\n",
    "labels_to_ix = {}\n",
    "bs = 32\n",
    "epoch_cost = []\n",
    "\n",
    "for epoch in range(10):\n",
    "\n",
    "    \n",
    "    #SPlit dataset to avoid lexical memorization\n",
    "    print(\"Epoch :\", epoch)\n",
    "    with open(\"/home/achingacham/Model/GRID_data/Evaluation_Datasets/BLESS/UniqueTuples\") as inputFile:\n",
    "        content = inputFile.readlines()\n",
    "        total_data = len(content) \n",
    "        #60% train, 10% dev, 30% test\n",
    "        random.shuffle(content)\n",
    "        train_data  = content[0:int(total_data*.6)]\n",
    "        dev_data    = content[int(total_data*.6):int(total_data*.7)]\n",
    "        test_data   = content[int(total_data*.7):]\n",
    "\n",
    "\n",
    "    N = math.ceil(len(train_data)/bs)\n",
    "\n",
    "    Train_Error_cost = []\n",
    "    Average_cost = 0\n",
    "\n",
    "    for i in range(N):\n",
    "\n",
    "        batch_entry = train_data[i*bs:i*bs+bs]\n",
    "\n",
    "        batch_concept = []\n",
    "        batch_relata = []\n",
    "        batch_relation = []\n",
    "\n",
    "        for index,split_data in enumerate(batch_entry):\n",
    "            batch_concept.append(split_data.split()[0])\n",
    "            batch_relata.append(split_data.split()[1])\n",
    "            batch_relation.append(split_data.split()[2])\n",
    "\n",
    "            if split_data.split()[2] not in labels_to_ix:\n",
    "                labels_to_ix[split_data.split()[2]] = len(labels_to_ix)\n",
    "\n",
    "\n",
    "        batch_input_vector = autograd.Variable(make_batch_input_vector(batch_concept,batch_relata), requires_grad = True)\n",
    "        batch_target_label = autograd.Variable(make_batch_target_vector(batch_relation))\n",
    "        \n",
    "        model.zero_grad() \n",
    "        \n",
    "        batch_log_prob = model(batch_input_vector)\n",
    "         \n",
    "        batch_cost = loss(batch_log_prob,batch_target_label)\n",
    "        \n",
    "        batch_cost.backward()\n",
    "        \n",
    "        optimizer.step()\n",
    "\n",
    "        Train_Error_cost.append(batch_cost.data.tolist())\n",
    "      \n",
    "        Average_cost += batch_cost.data.tolist().pop()\n",
    "    \n",
    "    print(\"Average cost\", Average_cost/len(train_data))\n",
    "    \n",
    "    epoch_cost.append(Average_cost/len(train_data))"
   ]
  },
  {
   "cell_type": "code",
   "execution_count": 9,
   "metadata": {},
   "outputs": [
    {
     "data": {
      "image/png": "[encoded data removed]",
      "text/plain": [
       "<matplotlib.figure.Figure at 0x7f113273ebe0>"
      ]
     },
     "metadata": {},
     "output_type": "display_data"
    }
   ],
   "source": [
    "    \n",
    "matpy.plot(epoch_cost)\n",
    "matpy.ylabel(\"Average cost\")\n",
    "matpy.xlabel(\"epochs\")\n",
    "matpy.show()"
   ]
  },
  {
   "cell_type": "code",
   "execution_count": 10,
   "metadata": {
    "scrolled": true
   },
   "outputs": [
    {
     "name": "stderr",
     "output_type": "stream",
     "text": [
      "/home/achingacham/.local/lib/python3.5/site-packages/ipykernel_launcher.py:26: UserWarning: Implicit dimension choice for log_softmax has been deprecated. Change the call to include dim=X as an argument.\n"
     ]
    },
    {
     "name": "stdout",
     "output_type": "stream",
     "text": [
      "Accuracy 78.50644427596663\n"
     ]
    }
   ],
   "source": [
    "count = 0\n",
    "Dev_Error_cost = []\n",
    "\n",
    "for entry in dev_data:\n",
    "    input_words = entry.split()\n",
    "    \n",
    "    concept = input_words[0]\n",
    "    relata = input_words[1]   \n",
    "    relation = input_words[2]\n",
    "    \n",
    "    input_vector = autograd.Variable(make_input_vector(concept,relata))\n",
    "    target_label = autograd.Variable(torch.cuda.LongTensor([labels_to_ix[relation]]))\n",
    "    \n",
    "    log_prob = model(input_vector)\n",
    "    \n",
    "    predict_label = log_prob.max(0)[1]\n",
    "    \n",
    "    #print(log_prob, predict_label)\n",
    "    \n",
    "    #dev_cost = loss(log_prob,target_label)\n",
    "\n",
    "    #Dev_Error_cost.append(dev_cost.data.tolist())\n",
    "\n",
    "    if(str(predict_label.data) == str(target_label.data)):     \n",
    "        count += 1\n",
    "        \n",
    "# In[79]:\n",
    "\n",
    "#print(\"Error for Dev set\", Dev_Error_cost)\n",
    "\n",
    "print(\"Accuracy\",(count/len(dev_data))*100)\n"
   ]
  },
  {
   "cell_type": "code",
   "execution_count": null,
   "metadata": {},
   "outputs": [],
   "source": []
  },
  {
   "cell_type": "code",
   "execution_count": null,
   "metadata": {},
   "outputs": [],
   "source": []
  }
 ],
 "metadata": {
  "kernelspec": {
   "display_name": "Python 3",
   "language": "python",
   "name": "python3"
  },
  "language_info": {
   "codemirror_mode": {
    "name": "ipython",
    "version": 3
   },
   "file_extension": ".py",
   "mimetype": "text/x-python",
   "name": "python",
   "nbconvert_exporter": "python",
   "pygments_lexer": "ipython3",
   "version": "3.5.3"
  }
 },
 "nbformat": 4,
 "nbformat_minor": 2
}
