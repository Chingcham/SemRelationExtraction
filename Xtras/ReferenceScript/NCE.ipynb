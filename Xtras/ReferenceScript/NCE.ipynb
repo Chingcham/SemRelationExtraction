{
 "cells": [
  {
   "cell_type": "code",
   "execution_count": 6,
   "metadata": {},
   "outputs": [],
   "source": [
    "import numpy as np\n",
    "from matplotlib import pyplot\n",
    "import torch"
   ]
  },
  {
   "cell_type": "code",
   "execution_count": 75,
   "metadata": {},
   "outputs": [
    {
     "data": {
      "text/plain": [
       "array([-10,  -9,  -8,  -7,  -6,  -5,  -4,  -3,  -2,  -1,   0,   1,   2,\n",
       "         3,   4,   5,   6,   7,   8,   9,  10])"
      ]
     },
     "execution_count": 75,
     "metadata": {},
     "output_type": "execute_result"
    }
   ],
   "source": [
    "x = np.arange(-10,11)\n",
    "x\n"
   ]
  },
  {
   "cell_type": "code",
   "execution_count": 82,
   "metadata": {},
   "outputs": [],
   "source": [
    "y = torch.sigmoid(torch.FloatTensor(x))\n",
    "z = torch.sigmoid(torch.FloatTensor(-x))\n",
    "u = np.log(y)\n",
    "v = np.log(z)"
   ]
  },
  {
   "cell_type": "code",
   "execution_count": 83,
   "metadata": {},
   "outputs": [
    {
     "data": {
      "image/png": "[encoded data removed]",
      "text/plain": [
       "<matplotlib.figure.Figure at 0x7ff4dec3e9b0>"
      ]
     },
     "metadata": {},
     "output_type": "display_data"
    }
   ],
   "source": [
    "\n",
    "pyplot.subplot(1,2,1)\n",
    "pyplot.plot(x,y.numpy())\n",
    "pyplot.grid()\n",
    "pyplot.subplot(1,2,2)\n",
    "pyplot.plot(x,z.numpy())\n",
    "pyplot.grid()"
   ]
  },
  {
   "cell_type": "code",
   "execution_count": 100,
   "metadata": {},
   "outputs": [
    {
     "data": {
      "text/plain": [
       "<matplotlib.figure.Figure at 0x7ff4deca8d68>"
      ]
     },
     "metadata": {},
     "output_type": "display_data"
    }
   ],
   "source": [
    "fig = pyplot.figure(figsize=(15,5))"
   ]
  },
  {
   "cell_type": "code",
   "execution_count": 101,
   "metadata": {},
   "outputs": [],
   "source": [
    "axplot = fig.add_subplot(1, 2, 1)\n",
    "axplot.plot(x,y.numpy())\n",
    "axplot.plot(x,u.numpy())\n",
    "axplot.set_xlabel(\"x\")\n",
    "axplot.set_ylabel(\"Sigmoid(x)\")\n",
    "axplot.grid()\n",
    "\n",
    "\n",
    "\n",
    "axplot = fig.add_subplot(1, 2, 2)\n",
    "axplot.plot(x,z.numpy())\n",
    "axplot.plot(x,v.numpy())\n",
    "axplot.set_xlabel(\"x\")\n",
    "axplot.set_ylabel(\"Log(Sigmoid(-x))\")\n",
    "axplot.grid()\n",
    "\n"
   ]
  },
  {
   "cell_type": "code",
   "execution_count": 102,
   "metadata": {},
   "outputs": [],
   "source": [
    "fig.savefig(\"NCE_plots\")"
   ]
  },
  {
   "cell_type": "code",
   "execution_count": 104,
   "metadata": {},
   "outputs": [
    {
     "data": {
      "text/plain": [
       "(array([-10,  -9,  -8,  -7,  -6,  -5,  -4,  -3,  -2,  -1,   0,   1,   2,\n",
       "          3,   4,   5,   6,   7,   8,   9,  10]), \n",
       " -1.0000e+01\n",
       " -9.0001e+00\n",
       " -8.0003e+00\n",
       " -7.0009e+00\n",
       " -6.0025e+00\n",
       " -5.0067e+00\n",
       " -4.0181e+00\n",
       " -3.0486e+00\n",
       " -2.1269e+00\n",
       " -1.3133e+00\n",
       " -6.9315e-01\n",
       " -3.1326e-01\n",
       " -1.2693e-01\n",
       " -4.8587e-02\n",
       " -1.8150e-02\n",
       " -6.7153e-03\n",
       " -2.4756e-03\n",
       " -9.1141e-04\n",
       " -3.3539e-04\n",
       " -1.2339e-04\n",
       " -4.5420e-05\n",
       " [torch.FloatTensor of size 21])"
      ]
     },
     "execution_count": 104,
     "metadata": {},
     "output_type": "execute_result"
    }
   ],
   "source": [
    "x,u"
   ]
  },
  {
   "cell_type": "code",
   "execution_count": 106,
   "metadata": {},
   "outputs": [
    {
     "data": {
      "text/plain": [
       "(array([-10,  -9,  -8,  -7,  -6,  -5,  -4,  -3,  -2,  -1,   0,   1,   2,\n",
       "          3,   4,   5,   6,   7,   8,   9,  10]), \n",
       " -4.5420e-05\n",
       " -1.2339e-04\n",
       " -3.3539e-04\n",
       " -9.1141e-04\n",
       " -2.4756e-03\n",
       " -6.7153e-03\n",
       " -1.8150e-02\n",
       " -4.8587e-02\n",
       " -1.2693e-01\n",
       " -3.1326e-01\n",
       " -6.9315e-01\n",
       " -1.3133e+00\n",
       " -2.1269e+00\n",
       " -3.0486e+00\n",
       " -4.0181e+00\n",
       " -5.0067e+00\n",
       " -6.0025e+00\n",
       " -7.0009e+00\n",
       " -8.0003e+00\n",
       " -9.0001e+00\n",
       " -1.0000e+01\n",
       " [torch.FloatTensor of size 21])"
      ]
     },
     "execution_count": 106,
     "metadata": {},
     "output_type": "execute_result"
    }
   ],
   "source": [
    "x,v"
   ]
  },
  {
   "cell_type": "code",
   "execution_count": null,
   "metadata": {},
   "outputs": [],
   "source": []
  }
 ],
 "metadata": {
  "kernelspec": {
   "display_name": "Python 3",
   "language": "python",
   "name": "python3"
  },
  "language_info": {
   "codemirror_mode": {
    "name": "ipython",
    "version": 3
   },
   "file_extension": ".py",
   "mimetype": "text/x-python",
   "name": "python",
   "nbconvert_exporter": "python",
   "pygments_lexer": "ipython3",
   "version": "3.5.3"
  }
 },
 "nbformat": 4,
 "nbformat_minor": 2
}
