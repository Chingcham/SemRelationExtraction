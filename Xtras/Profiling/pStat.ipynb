{
 "cells": [
  {
   "cell_type": "code",
   "execution_count": 12,
   "metadata": {},
   "outputs": [
    {
     "name": "stdout",
     "output_type": "stream",
     "text": [
      "Sun May  6 17:21:48 2018    outputStat\n",
      "\n",
      "         11741107 function calls in 19.471 seconds\n",
      "\n",
      "   Random listing order was used\n",
      "\n",
      "   ncalls  tottime  percall  cumtime  percall filename:lineno(function)\n",
      "        1    0.000    0.000    0.000    0.000 {built-in method io.open}\n",
      "        1   17.353   17.353   19.471   19.471 createDatasets_mergeDict.py:75(combinePairsFrequencies)\n",
      "        1    0.000    0.000    0.000    0.000 {built-in method builtins.print}\n",
      "        1    0.000    0.000    0.000    0.000 {built-in method sys.getsizeof}\n",
      "        1    0.000    0.000   19.471   19.471 <string>:1(<module>)\n",
      "        1    0.000    0.000    0.000    0.000 codecs.py:308(__init__)\n",
      "  5238515    1.463    0.000    1.463    0.000 {method 'split' of 'str' objects}\n",
      "        1    0.000    0.000    0.000    0.000 _bootlocale.py:23(getpreferredencoding)\n",
      "  3993171    0.448    0.000    0.448    0.000 {method 'strip' of 'str' objects}\n",
      "     9360    0.014    0.000    0.066    0.000 codecs.py:318(decode)\n",
      "  2490689    0.141    0.000    0.141    0.000 {built-in method builtins.len}\n",
      "        1    0.000    0.000    0.000    0.000 {built-in method _locale.nl_langinfo}\n",
      "     9360    0.052    0.000    0.052    0.000 {built-in method _codecs.utf_8_decode}\n",
      "        1    0.000    0.000    0.000    0.000 codecs.py:259(__init__)\n",
      "        1    0.000    0.000    0.000    0.000 {method 'disable' of '_lsprof.Profiler' objects}\n",
      "        1    0.000    0.000    0.000    0.000 {method 'close' of '_io.TextIOWrapper' objects}\n",
      "        1    0.000    0.000   19.471   19.471 {built-in method builtins.exec}\n",
      "\n",
      "\n"
     ]
    },
    {
     "data": {
      "text/plain": [
       "<pstats.Stats at 0x7f612c11cf28>"
      ]
     },
     "execution_count": 12,
     "metadata": {},
     "output_type": "execute_result"
    }
   ],
   "source": [
    "import pstats\n",
    "p = pstats.Stats('outputStat')\n",
    "#p.strip_dirs().sort_stats(-1).print_stats()\n",
    "p.strip_dirs().print_stats()"
   ]
  },
  {
   "cell_type": "code",
   "execution_count": 6,
   "metadata": {},
   "outputs": [
    {
     "name": "stdout",
     "output_type": "stream",
     "text": [
      "Sun May  6 17:21:48 2018    outputStat\n",
      "\n",
      "         11741107 function calls in 19.471 seconds\n",
      "\n",
      "   Ordered by: function name\n",
      "\n",
      "   ncalls  tottime  percall  cumtime  percall filename:lineno(function)\n",
      "     9360    0.052    0.000    0.052    0.000 {built-in method _codecs.utf_8_decode}\n",
      "        1    0.000    0.000    0.000    0.000 {built-in method _locale.nl_langinfo}\n",
      "        1    0.000    0.000   19.471   19.471 {built-in method builtins.exec}\n",
      "  2490689    0.141    0.000    0.141    0.000 {built-in method builtins.len}\n",
      "        1    0.000    0.000    0.000    0.000 {built-in method builtins.print}\n",
      "        1    0.000    0.000    0.000    0.000 {built-in method io.open}\n",
      "        1    0.000    0.000    0.000    0.000 {built-in method sys.getsizeof}\n",
      "        1    0.000    0.000    0.000    0.000 {method 'close' of '_io.TextIOWrapper' objects}\n",
      "        1    0.000    0.000    0.000    0.000 {method 'disable' of '_lsprof.Profiler' objects}\n",
      "  5238515    1.463    0.000    1.463    0.000 {method 'split' of 'str' objects}\n",
      "  3993171    0.448    0.000    0.448    0.000 {method 'strip' of 'str' objects}\n",
      "        1    0.000    0.000   19.471   19.471 <string>:1(<module>)\n",
      "        1    0.000    0.000    0.000    0.000 codecs.py:308(__init__)\n",
      "        1    0.000    0.000    0.000    0.000 codecs.py:259(__init__)\n",
      "        1   17.353   17.353   19.471   19.471 createDatasets_mergeDict.py:75(combinePairsFrequencies)\n",
      "     9360    0.014    0.000    0.066    0.000 codecs.py:318(decode)\n",
      "        1    0.000    0.000    0.000    0.000 _bootlocale.py:23(getpreferredencoding)\n",
      "\n",
      "\n"
     ]
    },
    {
     "data": {
      "text/plain": [
       "<pstats.Stats at 0x7f612c10b240>"
      ]
     },
     "execution_count": 6,
     "metadata": {},
     "output_type": "execute_result"
    }
   ],
   "source": [
    "p.sort_stats('name')\n",
    "p.print_stats()"
   ]
  },
  {
   "cell_type": "code",
   "execution_count": 8,
   "metadata": {},
   "outputs": [
    {
     "name": "stdout",
     "output_type": "stream",
     "text": [
      "Sun May  6 17:21:48 2018    outputStat\n",
      "\n",
      "         11741107 function calls in 19.471 seconds\n",
      "\n",
      "   Ordered by: cumulative time\n",
      "   List reduced from 17 to 10 due to restriction <10>\n",
      "\n",
      "   ncalls  tottime  percall  cumtime  percall filename:lineno(function)\n",
      "        1    0.000    0.000   19.471   19.471 {built-in method builtins.exec}\n",
      "        1    0.000    0.000   19.471   19.471 <string>:1(<module>)\n",
      "        1   17.353   17.353   19.471   19.471 createDatasets_mergeDict.py:75(combinePairsFrequencies)\n",
      "  5238515    1.463    0.000    1.463    0.000 {method 'split' of 'str' objects}\n",
      "  3993171    0.448    0.000    0.448    0.000 {method 'strip' of 'str' objects}\n",
      "  2490689    0.141    0.000    0.141    0.000 {built-in method builtins.len}\n",
      "     9360    0.014    0.000    0.066    0.000 codecs.py:318(decode)\n",
      "     9360    0.052    0.000    0.052    0.000 {built-in method _codecs.utf_8_decode}\n",
      "        1    0.000    0.000    0.000    0.000 {built-in method io.open}\n",
      "        1    0.000    0.000    0.000    0.000 {built-in method builtins.print}\n",
      "\n",
      "\n"
     ]
    },
    {
     "data": {
      "text/plain": [
       "<pstats.Stats at 0x7f612c10b240>"
      ]
     },
     "execution_count": 8,
     "metadata": {},
     "output_type": "execute_result"
    }
   ],
   "source": [
    "p.sort_stats('cumulative').print_stats(10)"
   ]
  },
  {
   "cell_type": "code",
   "execution_count": 10,
   "metadata": {},
   "outputs": [
    {
     "ename": "KeyError",
     "evalue": "'outputStat'",
     "output_type": "error",
     "traceback": [
      "\u001b[0;31m---------------------------------------------------------------------------\u001b[0m",
      "\u001b[0;31mKeyError\u001b[0m                                  Traceback (most recent call last)",
      "\u001b[0;32m<ipython-input-10-65e26861edab>\u001b[0m in \u001b[0;36m<module>\u001b[0;34m()\u001b[0m\n\u001b[0;32m----> 1\u001b[0;31m \u001b[0mp\u001b[0m\u001b[0;34m.\u001b[0m\u001b[0msort_stats\u001b[0m\u001b[0;34m(\u001b[0m\u001b[0;34m'outputStat'\u001b[0m\u001b[0;34m)\u001b[0m\u001b[0;34m.\u001b[0m\u001b[0mprint_stats\u001b[0m\u001b[0;34m(\u001b[0m\u001b[0;34m'__init__'\u001b[0m\u001b[0;34m)\u001b[0m\u001b[0;34m\u001b[0m\u001b[0m\n\u001b[0m",
      "\u001b[0;32m/usr/lib/python3.5/pstats.py\u001b[0m in \u001b[0;36msort_stats\u001b[0;34m(self, *field)\u001b[0m\n\u001b[1;32m    206\u001b[0m         \u001b[0mconnector\u001b[0m \u001b[0;34m=\u001b[0m \u001b[0;34m\"\"\u001b[0m\u001b[0;34m\u001b[0m\u001b[0m\n\u001b[1;32m    207\u001b[0m         \u001b[0;32mfor\u001b[0m \u001b[0mword\u001b[0m \u001b[0;32min\u001b[0m \u001b[0mfield\u001b[0m\u001b[0;34m:\u001b[0m\u001b[0;34m\u001b[0m\u001b[0m\n\u001b[0;32m--> 208\u001b[0;31m             \u001b[0msort_tuple\u001b[0m \u001b[0;34m=\u001b[0m \u001b[0msort_tuple\u001b[0m \u001b[0;34m+\u001b[0m \u001b[0msort_arg_defs\u001b[0m\u001b[0;34m[\u001b[0m\u001b[0mword\u001b[0m\u001b[0;34m]\u001b[0m\u001b[0;34m[\u001b[0m\u001b[0;36m0\u001b[0m\u001b[0;34m]\u001b[0m\u001b[0;34m\u001b[0m\u001b[0m\n\u001b[0m\u001b[1;32m    209\u001b[0m             \u001b[0mself\u001b[0m\u001b[0;34m.\u001b[0m\u001b[0msort_type\u001b[0m \u001b[0;34m+=\u001b[0m \u001b[0mconnector\u001b[0m \u001b[0;34m+\u001b[0m \u001b[0msort_arg_defs\u001b[0m\u001b[0;34m[\u001b[0m\u001b[0mword\u001b[0m\u001b[0;34m]\u001b[0m\u001b[0;34m[\u001b[0m\u001b[0;36m1\u001b[0m\u001b[0;34m]\u001b[0m\u001b[0;34m\u001b[0m\u001b[0m\n\u001b[1;32m    210\u001b[0m             \u001b[0mconnector\u001b[0m \u001b[0;34m=\u001b[0m \u001b[0;34m\", \"\u001b[0m\u001b[0;34m\u001b[0m\u001b[0m\n",
      "\u001b[0;31mKeyError\u001b[0m: 'outputStat'"
     ]
    }
   ],
   "source": [
    "p.sort_stats('file').print_stats('__init__')"
   ]
  },
  {
   "cell_type": "code",
   "execution_count": 14,
   "metadata": {},
   "outputs": [
    {
     "name": "stdout",
     "output_type": "stream",
     "text": [
      "   Random listing order was used\n",
      "\n",
      "Function                                                 called...\n",
      "                                                             ncalls  tottime  cumtime\n",
      "{built-in method io.open}                                ->       1    0.000    0.000  _bootlocale.py:23(getpreferredencoding)\n",
      "                                                                  1    0.000    0.000  codecs.py:308(__init__)\n",
      "createDatasets_mergeDict.py:75(combinePairsFrequencies)  ->    9360    0.014    0.066  codecs.py:318(decode)\n",
      "                                                            2490689    0.141    0.141  {built-in method builtins.len}\n",
      "                                                                  1    0.000    0.000  {built-in method builtins.print}\n",
      "                                                                  1    0.000    0.000  {built-in method io.open}\n",
      "                                                                  1    0.000    0.000  {built-in method sys.getsizeof}\n",
      "                                                                  1    0.000    0.000  {method 'close' of '_io.TextIOWrapper' objects}\n",
      "                                                            5238515    1.463    1.463  {method 'split' of 'str' objects}\n",
      "                                                            3993171    0.448    0.448  {method 'strip' of 'str' objects}\n",
      "{built-in method builtins.print}                         -> \n",
      "{built-in method sys.getsizeof}                          -> \n",
      "<string>:1(<module>)                                     ->       1   17.353   19.471  createDatasets_mergeDict.py:75(combinePairsFrequencies)\n",
      "codecs.py:308(__init__)                                  ->       1    0.000    0.000  codecs.py:259(__init__)\n",
      "{method 'split' of 'str' objects}                        -> \n",
      "_bootlocale.py:23(getpreferredencoding)                  ->       1    0.000    0.000  {built-in method _locale.nl_langinfo}\n",
      "{method 'strip' of 'str' objects}                        -> \n",
      "codecs.py:318(decode)                                    ->    9360    0.052    0.052  {built-in method _codecs.utf_8_decode}\n",
      "{built-in method builtins.len}                           -> \n",
      "{built-in method _locale.nl_langinfo}                    -> \n",
      "{built-in method _codecs.utf_8_decode}                   -> \n",
      "codecs.py:259(__init__)                                  -> \n",
      "{method 'disable' of '_lsprof.Profiler' objects}         -> \n",
      "{method 'close' of '_io.TextIOWrapper' objects}          -> \n",
      "{built-in method builtins.exec}                          ->       1    0.000   19.471  <string>:1(<module>)\n",
      "\n",
      "\n"
     ]
    },
    {
     "data": {
      "text/plain": [
       "<pstats.Stats at 0x7f612c11cf28>"
      ]
     },
     "execution_count": 14,
     "metadata": {},
     "output_type": "execute_result"
    }
   ],
   "source": [
    "p.print_callees()"
   ]
  },
  {
   "cell_type": "code",
   "execution_count": null,
   "metadata": {},
   "outputs": [],
   "source": []
  }
 ],
 "metadata": {
  "kernelspec": {
   "display_name": "Python 3",
   "language": "python",
   "name": "python3"
  },
  "language_info": {
   "codemirror_mode": {
    "name": "ipython",
    "version": 3
   },
   "file_extension": ".py",
   "mimetype": "text/x-python",
   "name": "python",
   "nbconvert_exporter": "python",
   "pygments_lexer": "ipython3",
   "version": "3.5.3"
  }
 },
 "nbformat": 4,
 "nbformat_minor": 2
}
