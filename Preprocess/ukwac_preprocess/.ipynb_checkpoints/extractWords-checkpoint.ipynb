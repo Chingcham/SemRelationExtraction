{
 "cells": [
  {
   "cell_type": "code",
   "execution_count": 2,
   "metadata": {},
   "outputs": [],
   "source": [
    "import numpy as np\n",
    "import re"
   ]
  },
  {
   "cell_type": "code",
   "execution_count": 8,
   "metadata": {},
   "outputs": [
    {
     "data": {
      "text/plain": [
       "'\\n#Other method\\n\\nwith open(\"column1_ukwac\",\"r\") as inputFile:\\n    inputWords = inputFile.readlines()\\n    print(inputWords)\\n    #print([re.sub(\\'\\n$\\',\\' \\',words) for words in inputWords])\\n    cleanWords = \"\".join([re.sub(\\'\\n$\\',\\' \\',words) for words in inputWords[2:]])\\n    cleanWords = re.sub(\" <s> \",\"\\n\",cleanWords)\\n    with open(\"output_ukwac\",\"w\") as outputFile:\\n        outputFile.write(re.sub(\" </s>\",\"\",cleanWords))\\n'"
      ]
     },
     "execution_count": 8,
     "metadata": {},
     "output_type": "execute_result"
    }
   ],
   "source": [
    "'''\n",
    "#Other method\n",
    "\n",
    "with open(\"column1_ukwac\",\"r\") as inputFile:\n",
    "    inputWords = inputFile.readlines()\n",
    "    print(inputWords)\n",
    "    #print([re.sub('\\n$',' ',words) for words in inputWords])\n",
    "    cleanWords = \"\".join([re.sub('\\n$',' ',words) for words in inputWords[2:]])\n",
    "    cleanWords = re.sub(\" <s> \",\"\\n\",cleanWords)\n",
    "    with open(\"output_ukwac\",\"w\") as outputFile:\n",
    "        outputFile.write(re.sub(\" </s>\",\"\",cleanWords))\n",
    "'''"
   ]
  },
  {
   "cell_type": "code",
   "execution_count": 6,
   "metadata": {},
   "outputs": [
    {
     "name": "stdout",
     "output_type": "stream",
     "text": [
      "New sentence :  1\n",
      "New sentence :  2\n",
      "New sentence :  3\n"
     ]
    }
   ],
   "source": [
    "with open(\"column1_ukwac\",\"r\") as inputFile:\n",
    "    inputWords = inputFile.readlines()\n",
    "    sentence_dict = dict()\n",
    "    for words in inputWords[1:]:\n",
    "        if re.match('<s>',words):\n",
    "            \n",
    "            k = len(sentence_dict)\n",
    "            print(\"New sentence : \",k+1)\n",
    "            sentence_dict[k+1] = \"\"\n",
    "        else:\n",
    "            cleaned = re.sub('\\n',\" \",words)\n",
    "            #sentence_dict[k+1] += cleaned\n",
    "            sentence_dict[k+1] += re.sub('</s> ','\\n',cleaned)\n",
    "     \n",
    "    with open(\"output_ukwac\",\"w\") as outputFile_2:\n",
    "        [outputFile_2.write(\"\\n\"+sentence.strip()) for sentence in sentence_dict.values()]"
   ]
  },
  {
   "cell_type": "code",
   "execution_count": null,
   "metadata": {},
   "outputs": [],
   "source": []
  },
  {
   "cell_type": "code",
   "execution_count": null,
   "metadata": {},
   "outputs": [],
   "source": []
  },
  {
   "cell_type": "code",
   "execution_count": null,
   "metadata": {},
   "outputs": [],
   "source": []
  }
 ],
 "metadata": {
  "kernelspec": {
   "display_name": "Python 3",
   "language": "python",
   "name": "python3"
  },
  "language_info": {
   "codemirror_mode": {
    "name": "ipython",
    "version": 3
   },
   "file_extension": ".py",
   "mimetype": "text/x-python",
   "name": "python",
   "nbconvert_exporter": "python",
   "pygments_lexer": "ipython3",
   "version": "3.5.3"
  }
 },
 "nbformat": 4,
 "nbformat_minor": 2
}
