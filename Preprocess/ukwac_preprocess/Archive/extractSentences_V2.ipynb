{
 "cells": [
  {
   "cell_type": "code",
   "execution_count": 2,
   "metadata": {},
   "outputs": [],
   "source": [
    "import numpy as np\n",
    "import re"
   ]
  },
  {
   "cell_type": "code",
   "execution_count": 4,
   "metadata": {},
   "outputs": [
    {
     "data": {
      "text/plain": [
       "'\\n#Other method\\n\\nwith open(\"column1_ukwac\",\"r\") as inputFile:\\n    inputWords = inputFile.readlines()\\n    print(inputWords)\\n    #print([re.sub(\\'\\n$\\',\\' \\',words) for words in inputWords])\\n    cleanWords = \"\".join([re.sub(\\'\\n$\\',\\' \\',words) for words in inputWords[2:]])\\n    cleanWords = re.sub(\" <s> \",\"\\n\",cleanWords)\\n    with open(\"output_ukwac\",\"w\") as outputFile:\\n        outputFile.write(re.sub(\" </s>\",\"\",cleanWords))\\n'"
      ]
     },
     "execution_count": 4,
     "metadata": {},
     "output_type": "execute_result"
    }
   ],
   "source": [
    "'''\n",
    "#Other method\n",
    "\n",
    "with open(\"column1_ukwac\",\"r\") as inputFile:\n",
    "    inputWords = inputFile.readlines()\n",
    "    print(inputWords)\n",
    "    #print([re.sub('\\n$',' ',words) for words in inputWords])\n",
    "    cleanWords = \"\".join([re.sub('\\n$',' ',words) for words in inputWords[2:]])\n",
    "    cleanWords = re.sub(\" <s> \",\"\\n\",cleanWords)\n",
    "    with open(\"output_ukwac\",\"w\") as outputFile:\n",
    "        outputFile.write(re.sub(\" </s>\",\"\",cleanWords))\n",
    "'''"
   ]
  },
  {
   "cell_type": "code",
   "execution_count": 17,
   "metadata": {},
   "outputs": [
    {
     "name": "stdout",
     "output_type": "stream",
     "text": [
      "New sentence :  0\n",
      "New sentence :  1\n",
      "New sentence :  2\n"
     ]
    }
   ],
   "source": [
    "no='1'\n",
    "\n",
    "outputFile_2 = open(\"output_ukwac_\"+no,\"w\")\n",
    "    \n",
    "with open(\"ukwac_words_\"+no,\"r\") as inputFile:\n",
    "    inputWords = inputFile.readlines()\n",
    "   \n",
    "    k = 0\n",
    "    for words in inputWords[1:]:\n",
    "        if re.match('<s>',words):\n",
    "        \n",
    "            print(\"New sentence : \",k)\n",
    "            \n",
    "            outputFile_2.write(\"\\n\"+sentence.strip())\n",
    "            sentence = \"\"\n",
    "            k += 1\n",
    "        else:\n",
    "            cleaned = re.sub('\\n',\" \",words)\n",
    "            sentence += re.sub('</s>','\\n',cleaned)\n",
    "            \n",
    "        \n",
    "inputFile.close()\n",
    "outputFile_2.close()"
   ]
  },
  {
   "cell_type": "code",
   "execution_count": null,
   "metadata": {},
   "outputs": [],
   "source": []
  },
  {
   "cell_type": "code",
   "execution_count": null,
   "metadata": {},
   "outputs": [],
   "source": []
  },
  {
   "cell_type": "code",
   "execution_count": null,
   "metadata": {},
   "outputs": [],
   "source": []
  }
 ],
 "metadata": {
  "kernelspec": {
   "display_name": "Python 3",
   "language": "python",
   "name": "python3"
  },
  "language_info": {
   "codemirror_mode": {
    "name": "ipython",
    "version": 3
   },
   "file_extension": ".py",
   "mimetype": "text/x-python",
   "name": "python",
   "nbconvert_exporter": "python",
   "pygments_lexer": "ipython3",
   "version": "3.5.3"
  }
 },
 "nbformat": 4,
 "nbformat_minor": 2
}
